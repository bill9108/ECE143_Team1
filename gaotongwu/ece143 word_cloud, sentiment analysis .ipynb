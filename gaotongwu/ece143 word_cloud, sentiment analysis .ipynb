{
 "cells": [
  {
   "cell_type": "code",
   "execution_count": null,
   "metadata": {},
   "outputs": [],
   "source": [
    "import matplotlib.pyplot as plt\n",
    "import pandas as pd\n",
    "from textblob import TextBlob\n",
    "import progressbar\n",
    "import plotly.graph_objs as go\n",
    "import numpy as np\n",
    "import plotly as py\n",
    "import cufflinks as cf\n",
    "from wordcloud import WordCloud, STOPWORDS\n",
    "from plotly.offline import init_notebook_mode,iplot\n",
    "import re\n",
    "import plotly.express as px\n",
    "init_notebook_mode(connected=True)\n",
    "cf.go_offline()\n",
    "cf.set_config_file(offline=True,world_readable=True)\n",
    "from IPython.display import Image"
   ]
  },
  {
   "cell_type": "code",
   "execution_count": null,
   "metadata": {},
   "outputs": [],
   "source": [
    "business=pd.read_json('E:\\Yelp_dataset_business_clean.json')\n",
    "business=business.dropna(subset=['categories'])\n",
    "restaurant=business[business['categories'].str.contains('Restaurants')]"
   ]
  },
  {
   "cell_type": "code",
   "execution_count": null,
   "metadata": {},
   "outputs": [],
   "source": [
    "review=pd.read_json('Yelp_dataset_review_clean.json')\n",
    "rest_5=restaurant[restaurant['stars']==4]\n",
    "a=list(set(rest_5['business_id']))"
   ]
  },
  {
   "cell_type": "code",
   "execution_count": null,
   "metadata": {},
   "outputs": [],
   "source": [
    "star=[1, 2, 3, 4, 5]\n",
    "fig2=go.Figure()\n",
    "avg_polarity=[]\n",
    "for i in range(len(star)):    \n",
    "    rest_5=restaurant[restaurant['stars']==star[i]]\n",
    "    a=list(set(rest_5['business_id']))\n",
    "    hh=[]\n",
    "    for j in progressbar.progressbar(range(len(a))):\n",
    "        b=list(review[review['business_id']==a[j]]['text'])\n",
    "        polarity=[]\n",
    "        for sentence in b:\n",
    "            blob = TextBlob(sentence)\n",
    "            polarity.append(blob.sentiment.polarity)\n",
    "        if len(polarity)!=0:\n",
    "            hh.append(sum(polarity)/len(polarity))\n",
    "        ##if j==10:\n",
    "          ##  break\n",
    "    avg_polarity.append(sum(hh)/len(hh))\n",
    "    print(avg_polarity)\n",
    "    trace=go.Scatter(x=np.linspace(0,len(hh),num=len(hh)),y=hh,line_shape='spline',name='{} star'.format(str(star[i])))\n",
    "    fig2.add_trace(trace)\n",
    "    fig2.update_layout(title=\"Polarity of Reviews with Different Ratings\",title_x=0.5,title_font_size=25,xaxis_title='i\\'th restaurant',yaxis_title='Polarity')"
   ]
  },
  {
   "cell_type": "code",
   "execution_count": null,
   "metadata": {},
   "outputs": [],
   "source": [
    "star=[1, 2, 3, 4, 5]\n",
    "fig1=go.Figure()\n",
    "avg_subjectivity=[]\n",
    "for i in range(len(star)):    \n",
    "    rest_5=restaurant[restaurant['stars']==star[i]]\n",
    "    a=list(set(rest_5['business_id']))\n",
    "    hhh=[]\n",
    "    for j in progressbar.progressbar(range(len(a))):\n",
    "        b=list(review[review['business_id']==a[j]]['text'])\n",
    "        subjectivity=[]\n",
    "        for sentence in b:\n",
    "            blob = TextBlob(sentence)\n",
    "            subjectivity.append(blob.sentiment.subjectivity)\n",
    "            #print(subjectivity)\n",
    "        if len(subjectivity)!=0:\n",
    "            hhh.append(sum(subjectivity)/len(subjectivity))\n",
    "    avg_subjectivity.append(sum(hhh)/len(hhh))\n",
    "    print(avg_subjectivity)\n",
    "    trace=go.Scatter(x=np.linspace(0,len(hhh),num=len(hhh)),y=hhh,line_shape='spline',name='{} star'.format(str(star[i])))\n",
    "    fig1.add_trace(trace)\n",
    "    fig1.update_layout(title=\"subjectivity of different star rate\",title_x=0.5,xaxis_title='i\\'th of restaurants',yaxis_title='subjectivity')"
   ]
  },
  {
   "cell_type": "code",
   "execution_count": null,
   "metadata": {},
   "outputs": [],
   "source": [
    "stopwords = set(STOPWORDS) \n",
    "stopwords\n",
    "rest_5=restaurant[restaurant['stars']==star[0]]\n",
    "a=list(set(rest_5['business_id']))\n",
    "all_reviews=\"\"\n",
    "for i in progressbar.progressbar(range(len(a))):\n",
    "    b=list(review[review['business_id']==a[i]]['text'])\n",
    "    bs=\"\"\n",
    "    for s in b:\n",
    "        bs+=s\n",
    "    all_reviews+=bs\n",
    "replace=[\"food\",\"order\",\"location\",\"place\",\"McDonald\",\"one\",\"time\",\"go\",\"minute\",\"manager\",\"said\",\"pizza\",\"employee\",\"drive thru\"];\n",
    "for s in replace:\n",
    "    all_reviews=all_reviews.replace(s,\"\")\n",
    "wordcloud = WordCloud(width = 800, height = 800, background_color ='white', stopwords = stopwords, min_font_size = 10).generate(all_reviews) \n",
    "plt.figure(figsize = (8, 8), facecolor = None) \n",
    "plt.title(\"wordcloud star 1\")\n",
    "plt.imshow(wordcloud) "
   ]
  },
  {
   "cell_type": "code",
   "execution_count": null,
   "metadata": {},
   "outputs": [],
   "source": [
    "stopwords = set(STOPWORDS) \n",
    "stopwords\n",
    "rest_5=restaurant[restaurant['stars']==star[1]]\n",
    "a=list(set(rest_5['business_id']))\n",
    "all_reviews=\"\"\n",
    "for i in progressbar.progressbar(range(len(a))):\n",
    "    b=list(review[review['business_id']==a[i]]['text'])\n",
    "    bs=\"\"\n",
    "    for s in b:\n",
    "        bs+=s\n",
    "    all_reviews+=bs\n",
    "replace=[\"food\",\"order\",\"location\",\"place\",\"McDonald\",\"one\",\"time\",\"go\",\"minute\",\"manager\",\"said\",\"pizza\",\"employee\",\"drive thru\"];\n",
    "for s in replace:\n",
    "    all_reviews=all_reviews.replace(s,\"\")\n",
    "wordcloud = WordCloud(width = 800, height = 800, background_color ='white', stopwords = stopwords, min_font_size = 10).generate(all_reviews) \n",
    "plt.figure(figsize = (8, 8), facecolor = None) \n",
    "plt.title(\"wordcloud star 2\")\n",
    "plt.imshow(wordcloud)"
   ]
  },
  {
   "cell_type": "code",
   "execution_count": null,
   "metadata": {},
   "outputs": [],
   "source": [
    "stopwords = set(STOPWORDS) \n",
    "stopwords\n",
    "rest_5=restaurant[restaurant['stars']==star[2]]\n",
    "a=list(set(rest_5['business_id']))\n",
    "all_reviews=\"\"\n",
    "for i in progressbar.progressbar(range(len(a))):\n",
    "    b=list(review[review['business_id']==a[i]]['text'])\n",
    "    bs=\"\"\n",
    "    for s in b:\n",
    "        bs+=s\n",
    "    all_reviews+=bs\n",
    "replace=[\"food\",\"order\",\"location\",\"place\",\"McDonald\",\"one\",\"time\",\"go\",\"minute\",\"manager\",\"said\",\"pizza\",\"employee\",\"drive thru\"];\n",
    "for s in replace:\n",
    "    all_reviews=all_reviews.replace(s,\"\")\n",
    "wordcloud = WordCloud(width = 800, height = 800, background_color ='white', stopwords = stopwords, min_font_size = 10).generate(all_reviews) \n",
    "plt.figure(figsize = (8, 8), facecolor = None) \n",
    "plt.title(\"wordcloud star 3\")\n",
    "plt.imshow(wordcloud) "
   ]
  },
  {
   "cell_type": "code",
   "execution_count": null,
   "metadata": {},
   "outputs": [],
   "source": [
    "stopwords = set(STOPWORDS) \n",
    "stopwords\n",
    "rest_5=restaurant[restaurant['stars']==star[3]]\n",
    "a=list(set(rest_5['business_id']))\n",
    "all_reviews=\"\"\n",
    "for i in progressbar.progressbar(range(len(a))):\n",
    "    b=list(review[review['business_id']==a[i]]['text'])\n",
    "    bs=\"\"\n",
    "    for s in b:\n",
    "        bs+=s\n",
    "    all_reviews+=bs\n",
    "replace=[\"food\",\"order\",\"location\",\"place\",\"McDonald\",\"one\",\"time\",\"go\",\"minute\",\"manager\",\"said\",\"pizza\",\"employee\",\"drive thru\"];\n",
    "for s in replace:\n",
    "    all_reviews=all_reviews.replace(s,\"\")\n",
    "wordcloud = WordCloud(width = 800, height = 800, background_color ='white', stopwords = stopwords, min_font_size = 10).generate(all_reviews) \n",
    "plt.figure(figsize = (8, 8), facecolor = None) \n",
    "plt.title(\"wordcloud star 4\")\n",
    "plt.imshow(wordcloud) "
   ]
  },
  {
   "cell_type": "code",
   "execution_count": null,
   "metadata": {},
   "outputs": [],
   "source": [
    "stopwords = set(STOPWORDS) \n",
    "stopwords\n",
    "rest_5=restaurant[restaurant['stars']==star[4]]\n",
    "a=list(set(rest_5['business_id']))\n",
    "all_reviews=\"\"\n",
    "for i in progressbar.progressbar(range(len(a))):\n",
    "    b=list(review[review['business_id']==a[i]]['text'])\n",
    "    bs=\"\"\n",
    "    for s in b:\n",
    "        bs+=s\n",
    "    all_reviews+=bs\n",
    "replace=[\"food\",\"order\",\"location\",\"place\",\"McDonald\",\"one\",\"time\",\"go\",\"minute\",\"manager\",\"said\",\"pizza\",\"employee\",\"drive thru\"];\n",
    "for s in replace:\n",
    "    all_reviews=all_reviews.replace(s,\"\")\n",
    "wordcloud = WordCloud(width = 800, height = 800, background_color ='white', stopwords = stopwords, min_font_size = 10).generate(all_reviews) \n",
    "plt.figure(figsize = (8, 8), facecolor = None) \n",
    "plt.title(\"wordcloud star 5\")\n",
    "plt.imshow(wordcloud) "
   ]
  },
  {
   "cell_type": "code",
   "execution_count": null,
   "metadata": {},
   "outputs": [],
   "source": []
  }
 ],
 "metadata": {
  "kernelspec": {
   "display_name": "Python 3",
   "language": "python",
   "name": "python3"
  },
  "language_info": {
   "codemirror_mode": {
    "name": "ipython",
    "version": 3
   },
   "file_extension": ".py",
   "mimetype": "text/x-python",
   "name": "python",
   "nbconvert_exporter": "python",
   "pygments_lexer": "ipython3",
   "version": "3.8.3"
  }
 },
 "nbformat": 4,
 "nbformat_minor": 4
}
