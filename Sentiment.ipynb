{
 "cells": [
  {
   "cell_type": "code",
   "execution_count": null,
   "metadata": {},
   "outputs": [],
   "source": [
    "import matplotlib.pyplot as plt\n",
    "import pandas as pd\n",
    "from textblob import TextBlob\n",
    "import progressbar\n",
    "import plotly.graph_objs as go\n",
    "import numpy as np\n",
    "import plotly as py\n",
    "import cufflinks\n",
    "from wordcloud import WordCloud, STOPWORDS\n",
    "from plotly.offline import init_notebook_mode,iplot\n",
    "import re\n",
    "init_notebook_mode(connected=True)"
   ]
  },
  {
   "cell_type": "code",
   "execution_count": null,
   "metadata": {},
   "outputs": [],
   "source": [
    "business=pd.read_json('E:\\Yelp_dataset_business_clean.json')"
   ]
  },
  {
   "cell_type": "code",
   "execution_count": null,
   "metadata": {},
   "outputs": [],
   "source": [
    "business=business.dropna(subset=['categories'])\n",
    "business\n",
    "restaurant=business[business['categories'].str.contains('Restaurants')]"
   ]
  },
  {
   "cell_type": "code",
   "execution_count": null,
   "metadata": {},
   "outputs": [],
   "source": [
    "review=pd.read_json('Yelp_dataset_review_clean.json')"
   ]
  },
  {
   "cell_type": "code",
   "execution_count": null,
   "metadata": {},
   "outputs": [],
   "source": [
    "a=list(set(rest_5['business_id']))\n",
    "a[0]"
   ]
  },
  {
   "cell_type": "code",
   "execution_count": null,
   "metadata": {},
   "outputs": [],
   "source": [
    "b=list(review[review['business_id']==a[10]]['text'])"
   ]
  },
  {
   "cell_type": "code",
   "execution_count": null,
   "metadata": {},
   "outputs": [],
   "source": [
    "star=[1, 2, 3, 4, 5]\n",
    "fig=go.Figure()\n",
    "avg_polarity=[]\n",
    "for i in range(len(star)):    \n",
    "    rest_5=restaurant[restaurant['stars']==star[i]]\n",
    "    a=list(set(rest_5['business_id']))\n",
    "    hh=[]\n",
    "    for j in progressbar.progressbar(range(len(a))):\n",
    "        b=list(review[review['business_id']==a[j]]['text'])\n",
    "        polarity=[]\n",
    "        for sentence in b:\n",
    "            blob = TextBlob(sentence)\n",
    "            polarity.append(blob.sentiment.polarity)\n",
    "        if len(polarity)!=0:\n",
    "            hh.append(sum(polarity)/len(polarity))\n",
    "    avg_polarity.append(sum(hh)/len(hh))\n",
    "    print(avg_polarity)\n",
    "    trace=go.Scatter(x=np.linspace(0,len(hh),num=len(hh)),y=hh,line_shape='spline',name='star{}'.format(str(star[i])))\n",
    "    fig.add_trace(trace)\n",
    "    fig.update_layout(title=\"polarity of different star rate\",xaxis_title='review number',yaxis_title='Polarity')\n",
    "fig"
   ]
  },
  {
   "cell_type": "code",
   "execution_count": null,
   "metadata": {},
   "outputs": [],
   "source": [
    "star=[1, 2, 3, 4, 5]\n",
    "fig=go.Figure()\n",
    "avg_subjectivity=[]\n",
    "for i in range(len(star)):    \n",
    "    rest_5=restaurant[restaurant['stars']==star[i]]\n",
    "    a=list(set(rest_5['business_id']))\n",
    "    hhh=[]\n",
    "    for j in progressbar.progressbar(range(len(a))):\n",
    "        b=list(review[review['business_id']==a[j]]['text'])\n",
    "        subjectivity=[]\n",
    "        for sentence in b:\n",
    "            blob = TextBlob(sentence)\n",
    "            subjectivity.append(blob.sentiment.subjectivity)\n",
    "            #print(subjectivity)\n",
    "        if len(subjectivity)!=0:\n",
    "            hhh.append(sum(subjectivity)/len(subjectivity))\n",
    "    avg_subjectivity.append(sum(hhh)/len(hhh))\n",
    "    trace=go.Scatter(x=np.linspace(0,len(hhh),num=len(hhh)),y=hhh,line_shape='spline',name='star{}'.format(str(star[i])))\n",
    "    fig.add_trace(trace)\n",
    "    fig.update_layout(title=\"subjectivity of different star rate\",xaxis_title='review number',yaxis_title='subjectivity')\n",
    "fig"
   ]
  }
 ],
 "metadata": {
  "kernelspec": {
   "display_name": "Python 3",
   "language": "python",
   "name": "python3"
  },
  "language_info": {
   "codemirror_mode": {
    "name": "ipython",
    "version": 3
   },
   "file_extension": ".py",
   "mimetype": "text/x-python",
   "name": "python",
   "nbconvert_exporter": "python",
   "pygments_lexer": "ipython3",
   "version": "3.7.3"
  }
 },
 "nbformat": 4,
 "nbformat_minor": 4
}
