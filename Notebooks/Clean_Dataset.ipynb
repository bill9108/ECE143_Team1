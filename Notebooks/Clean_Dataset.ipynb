{
 "cells": [
  {
   "cell_type": "code",
   "execution_count": null,
   "metadata": {},
   "outputs": [],
   "source": [
    "import json as js\n",
    "import pandas as pd\n",
    "import numpy as np\n",
    "import clean_dataset as cd"
   ]
  },
  {
   "cell_type": "code",
   "execution_count": null,
   "metadata": {},
   "outputs": [],
   "source": [
    "bus = pd.read_json('./yelp_academic_dataset_business.json', lines=True)\n",
    "bus = bus.dropna()"
   ]
  },
  {
   "cell_type": "code",
   "execution_count": null,
   "metadata": {},
   "outputs": [],
   "source": [
    "discard = list()\n",
    "states = ['IL', 'AZ', 'OH', 'PA', 'NV', 'NC', 'SC', 'WI',\n",
    "       'TX', 'CO', 'NY', 'FL', 'VT', 'HI', 'OR', 'WA', 'CA',\n",
    "       'VA', 'NE']\n",
    "for i in bus.index:\n",
    "    if 'Restaurants' not in bus.loc[i].categories or bus.loc[i].is_open == 0 or bus.loc[i].state not in states:\n",
    "        discard.append(i)\n",
    "        \n",
    "bus.drop(discard, inplace=True)\n",
    "bus.drop('is_open', axis=1, inplace=True)"
   ]
  },
  {
   "cell_type": "code",
   "execution_count": null,
   "metadata": {},
   "outputs": [],
   "source": [
    "f = open ('./Yelp_dataset_business_clean.json', 'w')\n",
    "\n",
    "bus.to_json(path_or_buf=f)\n",
    "f.close()"
   ]
  },
  {
   "cell_type": "code",
   "execution_count": null,
   "metadata": {},
   "outputs": [],
   "source": [
    "bus = pd.read_json('./Yelp_dataset_business_clean.json', encoding='utf8')\n",
    "bus"
   ]
  },
  {
   "cell_type": "code",
   "execution_count": null,
   "metadata": {},
   "outputs": [],
   "source": [
    "busId = np.array(bus['business_id'])"
   ]
  },
  {
   "cell_type": "code",
   "execution_count": null,
   "metadata": {},
   "outputs": [],
   "source": [
    "test = pd.read_json('./test/testoutput.json', encoding='utf8')\n",
    "test"
   ]
  },
  {
   "cell_type": "code",
   "execution_count": null,
   "metadata": {},
   "outputs": [],
   "source": [
    "test2 = pd.read_json('Yelp_dataset_review_clean.json', encoding='utf8')"
   ]
  },
  {
   "cell_type": "code",
   "execution_count": null,
   "metadata": {},
   "outputs": [],
   "source": [
    "reviewReader = pd.read_json('./yelp_academic_dataset_review.json', lines=True, encoding='utf8', chunksize=100000)"
   ]
  },
  {
   "cell_type": "code",
   "execution_count": null,
   "metadata": {},
   "outputs": [],
   "source": [
    "reviewDfList = list()\n",
    "for chunk in reviewReader:\n",
    "    userDfList.append(chunk[chunk.business_id.isin(busId)])\n",
    "\n",
    "review = pd.concat(userDfList)"
   ]
  },
  {
   "cell_type": "code",
   "execution_count": null,
   "metadata": {},
   "outputs": [],
   "source": [
    "f = open ('./Yelp_dataset_review_clean.json', 'w')\n",
    "review.to_json(path_or_buf=f)\n",
    "f.close()"
   ]
  },
  {
   "cell_type": "code",
   "execution_count": null,
   "metadata": {},
   "outputs": [],
   "source": []
  },
  {
   "cell_type": "code",
   "execution_count": null,
   "metadata": {},
   "outputs": [],
   "source": []
  },
  {
   "cell_type": "code",
   "execution_count": null,
   "metadata": {},
   "outputs": [],
   "source": [
    "clean_dataset('./Original Dataset/yelp_academic_dataset_review.json', './test/testoutput.json', 'review', 'Yelp_dataset_business_clean.json')"
   ]
  }
 ],
 "metadata": {
  "kernelspec": {
   "display_name": "Python 3",
   "language": "python",
   "name": "python3"
  },
  "language_info": {
   "codemirror_mode": {
    "name": "ipython",
    "version": 3
   },
   "file_extension": ".py",
   "mimetype": "text/x-python",
   "name": "python",
   "nbconvert_exporter": "python",
   "pygments_lexer": "ipython3",
   "version": "3.7.3"
  }
 },
 "nbformat": 4,
 "nbformat_minor": 2
}
