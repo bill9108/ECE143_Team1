{
 "cells": [
  {
   "cell_type": "markdown",
   "metadata": {},
   "source": [
    "# _ECE 143 Team 1 - Yelp Data Exploration and Analysis_"
   ]
  },
  {
   "cell_type": "code",
   "execution_count": null,
   "metadata": {},
   "outputs": [],
   "source": [
    "import pandas as pd\n",
    "import numpy as np\n",
    "import matplotlib.pyplot as plt\n",
    "import get_cuisine as gc\n",
    "import plot_cuisine_count as pcc\n",
    "import cuisine_count as cc\n",
    "import gen_wordcloud as gwc\n",
    "import contribute_time_weight as ctw"
   ]
  },
  {
   "cell_type": "code",
   "execution_count": null,
   "metadata": {},
   "outputs": [],
   "source": [
    "business = pd.read_json('./Yelp_dataset_business_clean.json', encoding='utf8')\n",
    "checkin = pd.read_json('./Yelp_dataset_checkin_clean.json', encoding='utf8')\n",
    "review = pd.read_json('./Yelp_dataset_review_clean.json', encoding='utf8')\n",
    "user = pd.read_json('./yelp_academic_dataset_user.json', lines=True, encoding='utf8')"
   ]
  },
  {
   "cell_type": "markdown",
   "metadata": {},
   "source": [
    "# Cuisine Exploration"
   ]
  },
  {
   "cell_type": "code",
   "execution_count": null,
   "metadata": {},
   "outputs": [],
   "source": [
    "cuisineColor = {'Indian': '#6495ED', 'Greek':'grey', 'Hawaiian': '#191970', 'French': '#f08800', 'Middle Eastern': '#8e09c8',\n",
    "            'Vietnamese':'#00bd46', 'Korean': '#FF1493', 'American': '#0b37e5', 'Mexican': '#20B2AA', 'Italian': 'orange', \n",
    "           '(Non-Italian) Pizza': '#551A8B', 'Chinese': '#CD0000', 'Japanese': '#708344', 'Thai': '#00C5CD', 'Brazilian': 'teal'}\n",
    "\n",
    "cuisines = ['Chinese', 'Italian', 'Japanese', 'Korean', 'Mexican', 'American', 'Greek', 'French', 'Spanish', 'Turkish', 'Vietnamese',\n",
    "          'Russian', 'German',  'Argentine', 'Thai', 'Middle Eastern', 'Brazilian', 'Pakistani', \n",
    "          'Indian','Filipino', 'Pizza', 'Caribbean', 'Hawaiian', 'Cuban', 'Mediterranean', 'Coffee & Tea','Breakfast & Brunch', \n",
    "            'Fast Food', 'Bars']"
   ]
  },
  {
   "cell_type": "markdown",
   "metadata": {},
   "source": [
    "## Trending Cuisine by # of Restaurants and # of Reviews"
   ]
  },
  {
   "cell_type": "code",
   "execution_count": null,
   "metadata": {},
   "outputs": [],
   "source": [
    "cuisineDic = gc.get_cuisine(business)"
   ]
  },
  {
   "cell_type": "code",
   "execution_count": null,
   "metadata": {},
   "outputs": [],
   "source": [
    "names, counts = cc.count_cuisine_num_business(cuisineDic, cuisines, True)\n",
    "pcc.plot_bars(names, counts)\n",
    "\n",
    "names, counts = cc.count_cuisine_num_business(cuisineDic, cuisines, False)\n",
    "colors = list()\n",
    "for n in names[0:10]:\n",
    "    colors.append(cuisineColor[n])\n",
    "pcc.plot_pie(names[0:10], counts[0:10], 'Top 10 Trending Cuisines on Yelp (by # of restaurants)', colors)\n",
    "\n",
    "names, counts = cc.count_cuisine_num_review(cuisineDic, checkin, cuisines)\n",
    "colors = list()\n",
    "for n in names[0:10]:\n",
    "    colors.append(cuisineColor[n])\n",
    "pcc.plot_pie(names[0:10], counts[0:10], 'Top 10 Trending Cuisines on Yelp (by # of reviews)', colors)"
   ]
  },
  {
   "cell_type": "markdown",
   "metadata": {},
   "source": [
    "## Change in Trending Cuisine Over Years\n",
    " (Expect long computation time due to the huge number of the reviews)"
   ]
  },
  {
   "cell_type": "code",
   "execution_count": null,
   "metadata": {},
   "outputs": [],
   "source": [
    "review2 =review.drop('text', axis=1)  #Text field not used in this part"
   ]
  },
  {
   "cell_type": "code",
   "execution_count": null,
   "metadata": {},
   "outputs": [],
   "source": [
    "years = [2013, 2019]\n",
    "for y in years:\n",
    "    names, counts = count_cuisine_yearly_num_review(cuisineDic, review2, cuisines, y)\n",
    "    colors = list()\n",
    "    for n in names[3:13]:\n",
    "        colors.append(cuisineColor[n])\n",
    "    pcc.plot_pie(names[3:13], counts[3:13], \n",
    "                 'Top 10 Trending Cuisines on Yelp in ' + str(y) + ' (by # of reviews)\\n(Excluding American, Mexican and Italian)', \n",
    "                 colors)"
   ]
  },
  {
   "cell_type": "markdown",
   "metadata": {},
   "source": [
    "# User Exploration"
   ]
  },
  {
   "cell_type": "code",
   "execution_count": null,
   "metadata": {},
   "outputs": [],
   "source": []
  },
  {
   "cell_type": "markdown",
   "metadata": {},
   "source": [
    "# Review Exploration\n",
    "## Wordclouds\n",
    "(Expect extremely long computation time (> 2 hours) due to the immense total size of the review texts)"
   ]
  },
  {
   "cell_type": "code",
   "execution_count": null,
   "metadata": {
    "scrolled": true
   },
   "outputs": [],
   "source": [
    "for i in range(1, 2):\n",
    "    generate_wordcloud(business, review, i, 100)\n",
    "    print(\"Word cloud for \" + str(i) + \" star businesses completed\")"
   ]
  },
  {
   "cell_type": "markdown",
   "metadata": {},
   "source": [
    "## Sentiment Analysis\n",
    "(Expect very long computation time due to the immense total size of the review texts)"
   ]
  },
  {
   "cell_type": "markdown",
   "metadata": {},
   "source": [
    "## Number of New Reviews vs. Year"
   ]
  },
  {
   "cell_type": "code",
   "execution_count": null,
   "metadata": {},
   "outputs": [],
   "source": [
    "from contribute_time_weight  review_time, weight\n",
    "review_time(review)"
   ]
  },
  {
   "cell_type": "code",
   "execution_count": null,
   "metadata": {},
   "outputs": [],
   "source": [
    "## Business stars influenced by contribute"
   ]
  },
  {
   "cell_type": "code",
   "execution_count": null,
   "metadata": {},
   "outputs": [],
   "source": [
    "from contribute_time_weight import contribute\n",
    "contribute(business)"
   ]
  },
  {
   "cell_type": "code",
   "execution_count": null,
   "metadata": {},
   "outputs": [],
   "source": [
    "## Users weight according to their behavior"
   ]
  },
  {
   "cell_type": "code",
   "execution_count": null,
   "metadata": {},
   "outputs": [],
   "source": [
    "from contribute_time_weight weight\n",
    "weight(user)"
   ]
  }
 ],
 "metadata": {
  "kernelspec": {
   "display_name": "Python 3",
   "language": "python",
   "name": "python3"
  },
  "language_info": {
   "codemirror_mode": {
    "name": "ipython",
    "version": 3
   },
   "file_extension": ".py",
   "mimetype": "text/x-python",
   "name": "python",
   "nbconvert_exporter": "python",
   "pygments_lexer": "ipython3",
   "version": "3.7.7"
  }
 },
 "nbformat": 4,
 "nbformat_minor": 4
}
