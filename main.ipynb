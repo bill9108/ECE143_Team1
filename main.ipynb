{
 "cells": [
  {
   "cell_type": "markdown",
   "metadata": {},
   "source": [
    "# _ECE 143 Team 1 - Yelp Data Exploration and Analysis_"
   ]
  },
  {
   "cell_type": "code",
   "execution_count": null,
   "metadata": {},
   "outputs": [],
   "source": [
    "import pandas as pd\n",
    "import numpy as np\n",
    "import matplotlib.pyplot as plt\n",
    "import get_cuisine as gc\n",
    "import plot_cuisine_count as pcc\n",
    "import cuisine_count as cc\n",
    "import gen_wordcloud as gwc\n",
    "import contribute_time_weight as ctw\n",
    "import count_data as cd\n",
    "import create_bar_plots as cbp\n",
    "import create_pie_chart as cpc\n",
    "import create_stacked_plot as csp\n",
    "import load_user_dataset as load\n",
    "import create_friend_pie_chart as cfpc"
   ]
  },
  {
   "cell_type": "code",
   "execution_count": null,
   "metadata": {},
   "outputs": [],
   "source": [
    "business = pd.read_json('./Yelp_dataset_business_clean.json', encoding='utf8')\n",
    "checkin = pd.read_json('./Yelp_dataset_checkin_clean.json', encoding='utf8')\n",
    "review = pd.read_json('./Yelp_dataset_review_clean.json', encoding='utf8')\n",
    "user = pd.read_json('./yelp_academic_dataset_user.json', lines=True, encoding='utf8')"
   ]
  },
  {
   "cell_type": "markdown",
   "metadata": {},
   "source": [
    "# Cuisine Exploration"
   ]
  },
  {
   "cell_type": "code",
   "execution_count": null,
   "metadata": {},
   "outputs": [],
   "source": [
    "cuisineColor = {'Indian': '#6495ED', 'Greek':'grey', 'Hawaiian': '#191970', 'French': '#f08800', 'Middle Eastern': '#8e09c8',\n",
    "            'Vietnamese':'#00bd46', 'Korean': '#FF1493', 'American': '#0b37e5', 'Mexican': '#20B2AA', 'Italian': 'orange', \n",
    "           '(Non-Italian) Pizza': '#551A8B', 'Chinese': '#CD0000', 'Japanese': '#708344', 'Thai': '#00C5CD', 'Brazilian': 'teal'}\n",
    "\n",
    "cuisines = ['Chinese', 'Italian', 'Japanese', 'Korean', 'Mexican', 'American', 'Greek', 'French', 'Spanish', 'Turkish', 'Vietnamese',\n",
    "          'Russian', 'German',  'Argentine', 'Thai', 'Middle Eastern', 'Brazilian', 'Pakistani', \n",
    "          'Indian','Filipino', 'Pizza', 'Caribbean', 'Hawaiian', 'Cuban', 'Mediterranean', 'Coffee & Tea','Breakfast & Brunch', \n",
    "            'Fast Food', 'Bars']"
   ]
  },
  {
   "cell_type": "markdown",
   "metadata": {},
   "source": [
    "## Trending Cuisine by # of Restaurants and # of Reviews"
   ]
  },
  {
   "cell_type": "code",
   "execution_count": null,
   "metadata": {},
   "outputs": [],
   "source": [
    "cuisineDic = gc.get_cuisine(business)"
   ]
  },
  {
   "cell_type": "code",
   "execution_count": null,
   "metadata": {},
   "outputs": [],
   "source": [
    "names, counts = cc.count_cuisine_num_business(cuisineDic, cuisines, True)\n",
    "pcc.plot_bars(names, counts)\n",
    "\n",
    "names, counts = cc.count_cuisine_num_business(cuisineDic, cuisines, False)\n",
    "colors = list()\n",
    "for n in names[0:10]:\n",
    "    colors.append(cuisineColor[n])\n",
    "pcc.plot_pie(names[0:10], counts[0:10], 'Top 10 Trending Cuisines on Yelp (by # of restaurants)', colors)\n",
    "\n",
    "names, counts = cc.count_cuisine_num_review(cuisineDic, checkin, cuisines)\n",
    "colors = list()\n",
    "for n in names[0:10]:\n",
    "    colors.append(cuisineColor[n])\n",
    "pcc.plot_pie(names[0:10], counts[0:10], 'Top 10 Trending Cuisines on Yelp (by # of reviews)', colors)"
   ]
  },
  {
   "cell_type": "markdown",
   "metadata": {},
   "source": [
    "## Change in Trending Cuisine Over Years\n",
    " (Expect long computation time due to the huge number of the reviews)"
   ]
  },
  {
   "cell_type": "code",
   "execution_count": null,
   "metadata": {},
   "outputs": [],
   "source": [
    "review2 =review.drop('text', axis=1)  #Text field not used in this part"
   ]
  },
  {
   "cell_type": "code",
   "execution_count": null,
   "metadata": {},
   "outputs": [],
   "source": [
    "years = [2013, 2019]\n",
    "for y in years:\n",
    "    names, counts = count_cuisine_yearly_num_review(cuisineDic, review2, cuisines, y)\n",
    "    colors = list()\n",
    "    for n in names[3:13]:\n",
    "        colors.append(cuisineColor[n])\n",
    "    pcc.plot_pie(names[3:13], counts[3:13], \n",
    "                 'Top 10 Trending Cuisines on Yelp in ' + str(y) + ' (by # of reviews)\\n(Excluding American, Mexican and Italian)', \n",
    "                 colors)"
   ]
  },
  {
   "cell_type": "markdown",
   "metadata": {},
   "source": [
    "# User Exploration"
   ]
  },
  {
   "cell_type": "code",
   "execution_count": null,
   "metadata": {},
   "outputs": [],
   "source": [
    "avg_star = cd.count_data(user,'average_stars')\n",
    "review_cnt = cd.count_data(user,'review_count')\n",
    "num_friend = cd.count_data(user,'friends')"
   ]
  },
  {
   "cell_type": "markdown",
   "metadata": {},
   "source": [
    "## Average Ratings"
   ]
  },
  {
   "cell_type": "code",
   "execution_count": 1,
   "metadata": {},
   "outputs": [],
   "source": [
    "xaxes=['1-1.5','1.5-2','2-2.5','2.5-3','3-3.5','3.5-4','4-4.5','4.5-5']\n",
    "title = 'distribution on the average stars users rated'\n",
    "xlabel = 'Interval of the average stars users rated'\n",
    "ylabel = 'count'\n",
    "cbp.create_bar_plots(avg_star,xaxes,1,5,title,xlabel,ylabel)"
   ]
  },
  {
   "cell_type": "code",
   "execution_count": null,
   "metadata": {},
   "outputs": [],
   "source": [
    "title = 'percentage on the average stars users rated'\n",
    "cpc.create_pie_chart(avg_star, xaxes,1,5,title)"
   ]
  },
  {
   "cell_type": "markdown",
   "metadata": {},
   "source": [
    "## Review Count"
   ]
  },
  {
   "cell_type": "code",
   "execution_count": null,
   "metadata": {},
   "outputs": [],
   "source": [
    "xaxes=['0-30','30-60','60-90','90-120','120-150','150-180','180-210','210-240','240-270','270-300']\n",
    "title = 'distribution on the number of reviews users made'\n",
    "xlabel = 'Interval of the number of reviews users made'\n",
    "ylabel = 'count'\n",
    "cbp.create_bar_plots(review_cnt,xaxes,0,300,title,xlabel,ylabel)"
   ]
  },
  {
   "cell_type": "code",
   "execution_count": null,
   "metadata": {},
   "outputs": [],
   "source": [
    "xaxes=['0-4','4-8','8-12','12-16','16-20','20-24','24-28','28-32','32-36','36-40','40-44','44-48','48-52','52-56','56-60']\n",
    "title = 'distribution on the number of reviews below 60'\n",
    "xlabel = 'Interval of the number of reviews users made'\n",
    "ylabel = 'count'\n",
    "cbp.create_bar_plots(review_cnt,xaxes,0,60,title,xlabel,ylabel)"
   ]
  },
  {
   "cell_type": "markdown",
   "metadata": {},
   "source": [
    "## Number of Friends"
   ]
  },
  {
   "cell_type": "code",
   "execution_count": null,
   "metadata": {},
   "outputs": [],
   "source": [
    "title = 'percentage of users that have only one friend VS percentage of users that have more than one friend'\n",
    "labels = ['users that have only one friend','users that have more than one friend']\n",
    "sizes = [952382, 1968703-952382]\n",
    "cfpc.create_friends_pie_chart(sizes, labels, title)"
   ]
  },
  {
   "cell_type": "code",
   "execution_count": null,
   "metadata": {},
   "outputs": [],
   "source": [
    "labels = ['less than 10 reviews','10-20 reviews','20-30 reviews','30-40 reviews','40-50 reviews','more than 50 reviews']\n",
    "csp.plot_stacked_plot(review_cnt,num_friend,labels)"
   ]
  },
  {
   "cell_type": "markdown",
   "metadata": {},
   "source": [
    "# Review Exploration\n",
    "## Wordclouds\n",
    "(Expect extremely long computation time (> 2 hours) due to the immense total size of the review texts)"
   ]
  },
  {
   "cell_type": "code",
   "execution_count": null,
   "metadata": {
    "scrolled": true
   },
   "outputs": [],
   "source": [
    "for i in range(1, 2):\n",
    "    generate_wordcloud(business, review, i, 100)\n",
    "    print(\"Word cloud for \" + str(i) + \" star businesses completed\")"
   ]
  },
  {
   "cell_type": "markdown",
   "metadata": {},
   "source": [
    "## Sentiment Analysis\n",
    "(Expect very long computation time due to the immense total size of the review texts)"
   ]
  },
  {
   "cell_type": "code",
   "execution_count": null,
   "metadata": {},
   "outputs": [],
   "source": []
  },
  {
   "cell_type": "markdown",
   "metadata": {},
   "source": [
    "## Number of New Reviews vs. Year"
   ]
  },
  {
   "cell_type": "code",
   "execution_count": null,
   "metadata": {},
   "outputs": [],
   "source": [
    "ctw.review_time(review)"
   ]
  },
  {
   "cell_type": "markdown",
   "metadata": {},
   "source": [
    "## Ratings of Businesses w/ Certain Attributes"
   ]
  },
  {
   "cell_type": "code",
   "execution_count": null,
   "metadata": {},
   "outputs": [],
   "source": [
    "ctw.contribute(business)"
   ]
  }
 ],
 "metadata": {
  "kernelspec": {
   "display_name": "Python 3",
   "language": "python",
   "name": "python3"
  },
  "language_info": {
   "codemirror_mode": {
    "name": "ipython",
    "version": 3
   },
   "file_extension": ".py",
   "mimetype": "text/x-python",
   "name": "python",
   "nbconvert_exporter": "python",
   "pygments_lexer": "ipython3",
   "version": "3.7.3"
  }
 },
 "nbformat": 4,
 "nbformat_minor": 4
}
