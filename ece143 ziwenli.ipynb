{
 "cells": [
  {
   "cell_type": "code",
   "execution_count": 100,
   "metadata": {},
   "outputs": [],
   "source": [
    "import pandas as pd\n",
    "a=pd.read_json('/home/notebook/data/group/liziwen/ECE143/Yelp_dataset_checkin_clean.json')\n",
    "b = pd.read_json('/home/notebook/data/group/liziwen/ECE143/Yelp_dataset_review_clean.json')\n",
    "c = pd.read_json('/home/notebook/data/group/liziwen/ECE143/Yelp_dataset_business_clean.json')\n"
   ]
  },
  {
   "cell_type": "code",
   "execution_count": 10,
   "metadata": {},
   "outputs": [],
   "source": [
    "attribute = c['attributes']\n",
    "star = c['stars']"
   ]
  },
  {
   "cell_type": "code",
   "execution_count": 57,
   "metadata": {},
   "outputs": [],
   "source": [
    "num=0\n",
    "good = 0\n",
    "bad = 0\n",
    "goodstar=0\n",
    "badstar = 0\n",
    "for i,v in attribute.items():\n",
    "    if 'GoodForKids' in v:\n",
    "        if v['GoodForKids']=='True':\n",
    "            good+=1\n",
    "            goodstar+=star[i]\n",
    "        else:\n",
    "            bad+=1\n",
    "            badstar+=star[i]"
   ]
  },
  {
   "cell_type": "code",
   "execution_count": 19,
   "metadata": {},
   "outputs": [
    {
     "name": "stdout",
     "output_type": "stream",
     "text": [
      "dict_keys(['RestaurantsAttire', 'RestaurantsTakeOut', 'BusinessAcceptsCreditCards', 'NoiseLevel', 'GoodForKids', 'RestaurantsReservations', 'RestaurantsGoodForGroups', 'BusinessParking', 'RestaurantsPriceRange2', 'HasTV', 'Alcohol', 'BikeParking', 'RestaurantsDelivery', 'ByAppointmentOnly', 'OutdoorSeating'])\n"
     ]
    }
   ],
   "source": [
    "print(attribute[8].keys())"
   ]
  },
  {
   "cell_type": "code",
   "execution_count": 83,
   "metadata": {},
   "outputs": [],
   "source": [
    "good_tv = 0\n",
    "bad_tv = 0\n",
    "goodstar_tv=0\n",
    "badstar_tv = 0\n",
    "for i,v in attribute.items():\n",
    "    if 'HasTV' in v:\n",
    "        if v['HasTV']=='True':\n",
    "            good_tv+=1\n",
    "            goodstar_tv+=star[i]\n",
    "        else:\n",
    "            bad_tv+=1\n",
    "            badstar_tv+=star[i]"
   ]
  },
  {
   "cell_type": "code",
   "execution_count": 84,
   "metadata": {},
   "outputs": [
    {
     "data": {
      "text/plain": [
       "3.428986660139518"
      ]
     },
     "execution_count": 84,
     "metadata": {},
     "output_type": "execute_result"
    }
   ],
   "source": [
    "goodstar_tv/good_tv"
   ]
  },
  {
   "cell_type": "code",
   "execution_count": 85,
   "metadata": {},
   "outputs": [
    {
     "data": {
      "text/plain": [
       "3.7718912983804556"
      ]
     },
     "execution_count": 85,
     "metadata": {},
     "output_type": "execute_result"
    }
   ],
   "source": [
    "badstar_tv/bad_tv"
   ]
  },
  {
   "cell_type": "code",
   "execution_count": 34,
   "metadata": {},
   "outputs": [
    {
     "data": {
      "text/plain": [
       "\"u'quiet'\""
      ]
     },
     "execution_count": 34,
     "metadata": {},
     "output_type": "execute_result"
    }
   ],
   "source": [
    "attribute[8]['NoiseLevel']"
   ]
  },
  {
   "cell_type": "code",
   "execution_count": 69,
   "metadata": {},
   "outputs": [],
   "source": [
    "noise = {}\n",
    "\n",
    "for i,v in attribute.items():\n",
    "    if 'NoiseLevel' in v:\n",
    "        if v['NoiseLevel'].startswith('u'):\n",
    "            if v['NoiseLevel'][2:-1] in noise:\n",
    "                noise[v['NoiseLevel'][2:-1]]+=star[i]\n",
    "                noise[v['NoiseLevel'][2:-1]+'_count']+=1\n",
    "            else:\n",
    "                noise[v['NoiseLevel'][2:-1]]=star[i]\n",
    "                noise[v['NoiseLevel'][2:-1]+'_count']=1\n",
    "        else:\n",
    "            if v['NoiseLevel'][1:-1] in noise:\n",
    "                noise[v['NoiseLevel'][1:-1]]+=star[i]\n",
    "                noise[v['NoiseLevel'][1:-1]+'_count']+=1\n",
    "            else:\n",
    "                noise[v['NoiseLevel'][1:-1]]=star[i]\n",
    "                noise[v['NoiseLevel'][1:-1]+'_count']=1"
   ]
  },
  {
   "cell_type": "code",
   "execution_count": 70,
   "metadata": {},
   "outputs": [
    {
     "data": {
      "text/plain": [
       "{'quiet': 9451.5,\n",
       " 'quiet_count': 2688,\n",
       " 'average': 44790.0,\n",
       " 'average_count': 12593,\n",
       " 'very_loud': 1004.5,\n",
       " 'very_loud_count': 362,\n",
       " 'loud': 3487.5,\n",
       " 'loud_count': 1105,\n",
       " 'on': 46.5,\n",
       " 'on_count': 15}"
      ]
     },
     "execution_count": 70,
     "metadata": {},
     "output_type": "execute_result"
    }
   ],
   "source": [
    "noise"
   ]
  },
  {
   "cell_type": "code",
   "execution_count": 55,
   "metadata": {},
   "outputs": [],
   "source": [
    "num=0\n",
    "good_g = 0\n",
    "bad_g = 0\n",
    "goodstar_g=0\n",
    "badstar_g = 0\n",
    "for i,v in attribute.items():\n",
    "    if 'RestaurantsGoodForGroups' in v:\n",
    "        if v['RestaurantsGoodForGroups']=='True':\n",
    "            good_g+=1\n",
    "            goodstar_g+=star[i]\n",
    "        else:\n",
    "            bad_g+=1\n",
    "            badstar_g+=star[i]"
   ]
  },
  {
   "cell_type": "code",
   "execution_count": 56,
   "metadata": {},
   "outputs": [
    {
     "data": {
      "text/plain": [
       "3.4640577376502386"
      ]
     },
     "execution_count": 56,
     "metadata": {},
     "output_type": "execute_result"
    }
   ],
   "source": [
    "goodstar_g/good_g"
   ]
  },
  {
   "cell_type": "code",
   "execution_count": 54,
   "metadata": {},
   "outputs": [
    {
     "data": {
      "text/plain": [
       "3.290794979079498"
      ]
     },
     "execution_count": 54,
     "metadata": {},
     "output_type": "execute_result"
    }
   ],
   "source": [
    "badstar/bad"
   ]
  },
  {
   "cell_type": "code",
   "execution_count": 99,
   "metadata": {},
   "outputs": [
    {
     "data": {
      "text/plain": [
       "Text(0.5, 1.0, 'Star from users in terms of some attributes')"
      ]
     },
     "execution_count": 99,
     "metadata": {},
     "output_type": "execute_result"
    },
    {
     "data": {
      "image/png": "[encoded data removed]",
      "text/plain": [
       "<Figure size 1008x864 with 1 Axes>"
      ]
     },
     "metadata": {
      "needs_background": "light"
     },
     "output_type": "display_data"
    }
   ],
   "source": [
    "import matplotlib.pyplot as plt\n",
    "data_noise = [noise['quiet']/noise['quiet_count'],noise['average']/noise['average_count'],noise['loud']/noise['loud_count'],noise['very_loud']/noise['very_loud_count']]\n",
    "\n",
    "data=[goodstar/good,badstar/bad,goodstar_g/good_g,badstar_g/bad_g, goodstar_tv/good_tv,badstar_tv/bad_tv,data_noise[0],data_noise[1],data_noise[2],data_noise[3]]\n",
    "labels = ['goodkid', 'badkid', 'goodgroup', 'badgroup','withTV','withoutTV', 'quiet','average','loud','veryloud']\n",
    "plt.figure(figsize=(14,12))\n",
    "plt.bar([0.3, 1, 2, 2.7,3.7,4.4, 6,7,8,9], data, width=0.6, tick_label=labels)\n",
    "plt.ylabel('star')\n",
    "plt.title('Star from users in terms of some attributes')"
   ]
  },
  {
   "cell_type": "code",
   "execution_count": 75,
   "metadata": {},
   "outputs": [
    {
     "data": {
      "text/plain": [
       "[3.5161830357142856,\n",
       " 3.5567378702453745,\n",
       " 3.1561085972850678,\n",
       " 2.7748618784530388]"
      ]
     },
     "execution_count": 75,
     "metadata": {},
     "output_type": "execute_result"
    }
   ],
   "source": [
    "data_noise"
   ]
  },
  {
   "cell_type": "code",
   "execution_count": 101,
   "metadata": {},
   "outputs": [],
   "source": [
    "time = b['date']\n",
    "month_yr = {}\n",
    "for index,value in time.items():\n",
    "  temp = value.strftime('%Y/%m')\n",
    "  if temp in month_yr:\n",
    "    month_yr[temp]+=1\n",
    "  else:\n",
    "    month_yr[temp]=1"
   ]
  },
  {
   "cell_type": "code",
   "execution_count": 108,
   "metadata": {},
   "outputs": [],
   "source": [
    "ttt=[]\n",
    "for i in month_yr:\n",
    "    ttt.append(i)"
   ]
  },
  {
   "cell_type": "code",
   "execution_count": 125,
   "metadata": {},
   "outputs": [],
   "source": [
    "import functools\n",
    "def func(x,y):\n",
    "    xx=int(x[:4])\n",
    "    yy=int(y[:4])\n",
    "    xxx=int(x[5:])\n",
    "    yyy=int(y[5:])\n",
    "    if xx<yy:\n",
    "        return -1\n",
    "\n",
    "    elif xx==yy:\n",
    "\n",
    "        if xxx<yyy:\n",
    "            return -1\n",
    "        if xxx==yyy:\n",
    "            return 0\n",
    "        else:\n",
    "            return 1\n",
    "    else:\n",
    "\n",
    "        return 1\n",
    "\n",
    "tttt=sorted(ttt,key=functools.cmp_to_key(func))"
   ]
  },
  {
   "cell_type": "code",
   "execution_count": 127,
   "metadata": {},
   "outputs": [],
   "source": [
    "time_count=[]\n",
    "for i in tttt:\n",
    "    time_count.append(month_yr[i])"
   ]
  },
  {
   "cell_type": "code",
   "execution_count": 154,
   "metadata": {},
   "outputs": [],
   "source": [
    "tick=[]\n",
    "a=2004\n",
    "b=12\n",
    "for i in range(30):\n",
    "    if i%2==0:\n",
    "        b=12\n",
    "        tick.append(str(a)+'/'+str(b))\n",
    "    else:\n",
    "        b=6\n",
    "        a+=1\n",
    "        tick.append(str(a)+'/'+str(b))\n",
    "import numpy as np\n",
    "lll=np.linspace(0, 175, 30)"
   ]
  },
  {
   "cell_type": "code",
   "execution_count": 156,
   "metadata": {},
   "outputs": [
    {
     "data": {
      "text/plain": [
       "Text(0.5, 0, 'time(year/month)')"
      ]
     },
     "execution_count": 156,
     "metadata": {},
     "output_type": "execute_result"
    },
    {
     "data": {
      "image/png": "[encoded data removed]",
      "text/plain": [
       "<Figure size 1728x864 with 1 Axes>"
      ]
     },
     "metadata": {
      "needs_background": "light"
     },
     "output_type": "display_data"
    }
   ],
   "source": [
    "plt.figure(figsize=(24,12))\n",
    "plt.plot(time_count[:-4])\n",
    "plt.xticks(lll,tick)\n",
    "plt.title('Number of reviews vs time')\n",
    "plt.ylabel('Reviews')\n",
    "plt.xlabel('time(year/month)')"
   ]
  },
  {
   "cell_type": "code",
   "execution_count": null,
   "metadata": {},
   "outputs": [],
   "source": []
  }
 ],
 "metadata": {
  "kernelspec": {
   "display_name": "Python 3",
   "language": "python",
   "name": "python3"
  },
  "language_info": {
   "codemirror_mode": {
    "name": "ipython",
    "version": 3
   },
   "file_extension": ".py",
   "mimetype": "text/x-python",
   "name": "python",
   "nbconvert_exporter": "python",
   "pygments_lexer": "ipython3",
   "version": "3.7.3"
  }
 },
 "nbformat": 4,
 "nbformat_minor": 4
}
